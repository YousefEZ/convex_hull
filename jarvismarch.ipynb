{
 "cells": [
  {
   "cell_type": "markdown",
   "metadata": {
    "cell_id": "00000-8eb618c0-21bf-4534-95ea-87ef6ec07e6b",
    "deepnote_cell_type": "markdown"
   },
   "source": [
    "# Jarvis march algorithm"
   ]
  },
  {
   "cell_type": "markdown",
   "metadata": {
    "cell_id": "00001-9830cc65-00fa-4c3e-aed9-8c999cb7ab35",
    "deepnote_cell_type": "markdown"
   },
   "source": [
    "Use the cell below for all python code needed to realise the Jarvis march algorithm (including any auxiliary data structures and functions you might need). The `jarvismarch()` function itself should take as input parameter a list of 2D points (`inputSet`), and return the subset of such points (`outputSet`) that lie on the convex hull."
   ]
  },
  {
   "cell_type": "code",
   "execution_count": 1,
   "metadata": {
    "cell_id": "00002-2ac78fa7-3b62-492c-b591-eaa570575d10",
    "deepnote_cell_type": "code",
    "deepnote_to_be_reexecuted": false,
    "execution_millis": 4,
    "execution_start": 1615214375127,
    "source_hash": "c7c9e4da",
    "tags": []
   },
   "outputs": [],
   "source": [
    "def leftmost(points: list) -> tuple:\n",
    "    \"\"\"Function that fetches the leftmost point from a list of points.\n",
    "\n",
    "    Args:\n",
    "        points (list): a list of di-tuples that represent co-ordinates (x,y)\n",
    "\n",
    "    Returns:\n",
    "        (tuple): a di-tuple that represents that leftmost point from the list of points.\n",
    "    \"\"\"\n",
    "    left = points[0]\n",
    "    for point in points:\n",
    "        if point[0] < left[0]:\n",
    "            left = point\n",
    "    return left\n",
    "\n",
    "def determinant(p1: tuple, p2: tuple, p3: tuple) -> float:\n",
    "    \"\"\"Function that gets the determinant for p1, p2 and p3, to determine whether it is a clockwise or\n",
    "       anticlockwise turn. \n",
    "\n",
    "        Args:\n",
    "        p1 (tuple) : a di-tuple (x,y) representing the first coordinate,\n",
    "        p2 (tuple) : a di-tuple (x,y) representing the second coordinate,\n",
    "        p3 (tuple) : a di-tuple (x,y) representing the third coordinate,\n",
    "\n",
    "    Returns:\n",
    "        (float) : the determinant between p1, p2 and p3.\n",
    "\n",
    "    Note:\n",
    "        det > 0 -> clockwise turn\n",
    "        det < 0 -> anticlockwise turn\n",
    "        det == 0 -> points are collinear\n",
    "    \"\"\"\n",
    "\n",
    "    return (p2[0]-p1[0]) * (p3[1]-p1[1])  - (p2[1]-p1[1]) * (p3[0]-p1[0])"
   ]
  },
  {
   "cell_type": "code",
   "execution_count": 2,
   "metadata": {
    "cell_id": "00002-f6cb3a55-c543-44d0-8635-1579af7544d1",
    "deepnote_cell_type": "code",
    "deepnote_to_be_reexecuted": false,
    "execution_millis": 2,
    "execution_start": 1615214375133,
    "source_hash": "29c12301"
   },
   "outputs": [],
   "source": [
    "def jarvismarch(inputSet: list):\n",
    "    \"\"\"Function that uses the Jarvis March algorithm to get the coordinates that are on the hull.\n",
    "\n",
    "    args:\n",
    "        inputSet (list): list containing pairs of x,y coords.\n",
    "\n",
    "    returns:\n",
    "        (list) containing the points on the hull\n",
    "    \"\"\"\n",
    "    left = leftmost(inputSet) # get the left point\n",
    "    pointOnHull = left # leftmost point is definitely on the hull, and is placed as starting point.\n",
    "    outputSet = []\n",
    "    i = 0\n",
    "    endpoint = None\n",
    "    while endpoint != left: # repeat until we reach the start point.\n",
    "        outputSet.append(pointOnHull) # add point to the list of points that are on the convex hull\n",
    "        endpoint = inputSet[0] # set endpoint to the start of the list.\n",
    "        for point in inputSet:\n",
    "            # loop through the set of points given.\n",
    "            if determinant(outputSet[i], endpoint, point) > 0 or (endpoint == pointOnHull) :\n",
    "                # if a point is on the left of the line, then take that point.\n",
    "                endpoint = point\t\t\t\n",
    "        i += 1\n",
    "        pointOnHull = endpoint\n",
    "    return outputSet"
   ]
  },
  {
   "cell_type": "markdown",
   "metadata": {
    "cell_id": "00003-7107e080-c1f6-4c26-866f-3742a27ba715",
    "deepnote_cell_type": "markdown"
   },
   "source": [
    "Use the cell below for all python code needed to generate test data points (both random and those representing worst-case scenario)."
   ]
  },
  {
   "cell_type": "code",
   "execution_count": 3,
   "metadata": {
    "cell_id": "00004-0f4d7140-bcf0-4810-8271-cf0ae0402227",
    "deepnote_cell_type": "code",
    "deepnote_to_be_reexecuted": false,
    "execution_millis": 7,
    "execution_start": 1615214375143,
    "source_hash": "8516b907"
   },
   "outputs": [],
   "source": [
    "import random\n",
    "\n",
    "#code for random data generation\n",
    "def generatePoint() -> tuple:\n",
    "    \"\"\"Function that generates a random valid point\"\"\"\n",
    "    return (random.randint(0, 32767), random.randint(0, 32767))\n",
    "\n",
    "def generatePoints(limit: int) -> list:\n",
    "    \"\"\"Function that generates a random list of point\"\"\"\n",
    "    return [generatePoint() for point in range(limit)]\n",
    "\n",
    "def generateFloat() -> tuple:\n",
    "    \"\"\"Function that generates a random valid point\"\"\"\n",
    "    return (random.randint(0, 32767)*random.random(), random.randint(0, 32767)*random.random())\n",
    "\n",
    "def generateFloats(limit: int) -> list:\n",
    "    \"\"\"Function that generates a random list of point\"\"\"\n",
    "    return [generateFloat() for point in range(limit)]\n",
    "\n",
    "#code for worst case data generation\n",
    "\n",
    "def getCirclePoint(number: int, centre: tuple, radius: int) -> tuple:\n",
    "    \"\"\"Function that produces a point on the circle given its arguments.\n",
    "\n",
    "    Args:\n",
    "        number (int): a number from 0 -> limit,\n",
    "        centre (tuple): a di-tuple representing the centre point coordinate of the circle,\n",
    "        radius (integer): an integer representing the radius of the circle\n",
    "\n",
    "    Returns:\n",
    "        (tuple): a di-tuple coordinate (x,y) that represents a point on the circle.\n",
    "    \"\"\"\n",
    "    # radius^2 = (x - centre[0])^2 + (y - centre[1])^2\n",
    "    # radius^2 - (x - centre[0]) ^ 2 = (y - centre[1])^2\n",
    "    # sqrt(radius^2 - (x - centre[0])^2) + centre[1] = y\n",
    "    x = centre[0] - radius + number\n",
    "    y = (((radius**2) - (x - centre[0])**2)**0.5 + centre[1]) *  ((-1)**(number%2)) + radius\n",
    "    return [x, y]\n",
    "\n",
    "def worstCase(limit: int) -> list:\n",
    "    \"\"\"Function that produces the worst case for Jarvis March, which is when all,\n",
    "    the points are on the convex hull, i.e. the points form a circle.\n",
    "\n",
    "    Args:\n",
    "        limit (int): the number of points to generate\n",
    "\n",
    "    Returns:\n",
    "        (list): Returns a list of di-tuples that represent coordinates on a circle.\n",
    "    \"\"\"\n",
    "    centre_point = [16383,0]\n",
    "    return [getCirclePoint(point, centre_point, limit//2) for point in range(limit)]\n"
   ]
  },
  {
   "cell_type": "markdown",
   "metadata": {
    "cell_id": "00005-a37985a6-9c19-4e4a-a42c-4cae8ca91009",
    "deepnote_cell_type": "markdown"
   },
   "source": [
    "Use the cell below for all python code needed to test the `jarvismarch()` function on the data generated above."
   ]
  },
  {
   "cell_type": "code",
   "execution_count": 4,
   "metadata": {
    "cell_id": "00006-b4355e5b-f34d-420e-b456-7b7e9827d533",
    "deepnote_cell_type": "code",
    "deepnote_to_be_reexecuted": false,
    "execution_millis": 1336091,
    "execution_start": 1615214375172,
    "source_hash": "4646d39"
   },
   "outputs": [
    {
     "name": "stdout",
     "output_type": "stream",
     "text": [
      "==========  STARTING: Normal cases  ========== \n",
      "\n",
      "Normal Case @ 100: 0.0010543170000000136 seconds\n",
      "Normal Case @ 500: 0.007754028000000011 seconds\n",
      "Normal Case @ 1000: 0.017344457 seconds\n"
     ]
    },
    {
     "ename": "KeyboardInterrupt",
     "evalue": "",
     "output_type": "error",
     "traceback": [
      "\u001b[1;31m---------------------------------------------------------------------------\u001b[0m",
      "\u001b[1;31mKeyboardInterrupt\u001b[0m                         Traceback (most recent call last)",
      "\u001b[1;32m<ipython-input-4-11d1380774ce>\u001b[0m in \u001b[0;36m<module>\u001b[1;34m\u001b[0m\n\u001b[0;32m     31\u001b[0m \u001b[1;33m\u001b[0m\u001b[0m\n\u001b[0;32m     32\u001b[0m \u001b[0mlimits\u001b[0m \u001b[1;33m=\u001b[0m \u001b[1;33m[\u001b[0m\u001b[1;36m100\u001b[0m\u001b[1;33m,\u001b[0m \u001b[1;36m500\u001b[0m\u001b[1;33m,\u001b[0m \u001b[1;36m1000\u001b[0m\u001b[1;33m,\u001b[0m \u001b[1;36m5000\u001b[0m\u001b[1;33m,\u001b[0m \u001b[1;36m10000\u001b[0m\u001b[1;33m,\u001b[0m \u001b[1;36m15000\u001b[0m\u001b[1;33m,\u001b[0m \u001b[1;36m20000\u001b[0m\u001b[1;33m]\u001b[0m\u001b[1;33m\u001b[0m\u001b[1;33m\u001b[0m\u001b[0m\n\u001b[1;32m---> 33\u001b[1;33m \u001b[0mrun_tests\u001b[0m\u001b[1;33m(\u001b[0m\u001b[0mlimits\u001b[0m\u001b[1;33m,\u001b[0m \u001b[0mgeneratePoints\u001b[0m\u001b[1;33m,\u001b[0m \u001b[1;34m\"Normal\"\u001b[0m\u001b[1;33m)\u001b[0m\u001b[1;33m\u001b[0m\u001b[1;33m\u001b[0m\u001b[0m\n\u001b[0m\u001b[0;32m     34\u001b[0m \u001b[0mrun_tests\u001b[0m\u001b[1;33m(\u001b[0m\u001b[0mlimits\u001b[0m\u001b[1;33m,\u001b[0m \u001b[0mworstCase\u001b[0m\u001b[1;33m,\u001b[0m \u001b[1;34m\"Worst\"\u001b[0m\u001b[1;33m,\u001b[0m \u001b[0mtests\u001b[0m\u001b[1;33m=\u001b[0m\u001b[1;36m5\u001b[0m\u001b[1;33m)\u001b[0m\u001b[1;33m\u001b[0m\u001b[1;33m\u001b[0m\u001b[0m\n\u001b[0;32m     35\u001b[0m \u001b[1;33m\u001b[0m\u001b[0m\n",
      "\u001b[1;32m<ipython-input-4-11d1380774ce>\u001b[0m in \u001b[0;36mrun_tests\u001b[1;34m(limits, data_generator, title, tests)\u001b[0m\n\u001b[0;32m     19\u001b[0m \u001b[1;33m\u001b[0m\u001b[0m\n\u001b[0;32m     20\u001b[0m         \u001b[1;31m# get the avg. time taken to jarvismarch a generated list (a new list is generated each iteration), includes time for data generation.\u001b[0m\u001b[1;33m\u001b[0m\u001b[1;33m\u001b[0m\u001b[1;33m\u001b[0m\u001b[0m\n\u001b[1;32m---> 21\u001b[1;33m         total_time = timeit.timeit('jarvismarch(data_generator(limit))', number = tests,  \n\u001b[0m\u001b[0;32m     22\u001b[0m         globals={'jarvismarch':jarvismarch,'data_generator':data_generator, 'limit':limit})\n\u001b[0;32m     23\u001b[0m \u001b[1;33m\u001b[0m\u001b[0m\n",
      "\u001b[1;32m~\\anaconda3\\lib\\timeit.py\u001b[0m in \u001b[0;36mtimeit\u001b[1;34m(stmt, setup, timer, number, globals)\u001b[0m\n\u001b[0;32m    231\u001b[0m            number=default_number, globals=None):\n\u001b[0;32m    232\u001b[0m     \u001b[1;34m\"\"\"Convenience function to create Timer object and call timeit method.\"\"\"\u001b[0m\u001b[1;33m\u001b[0m\u001b[1;33m\u001b[0m\u001b[0m\n\u001b[1;32m--> 233\u001b[1;33m     \u001b[1;32mreturn\u001b[0m \u001b[0mTimer\u001b[0m\u001b[1;33m(\u001b[0m\u001b[0mstmt\u001b[0m\u001b[1;33m,\u001b[0m \u001b[0msetup\u001b[0m\u001b[1;33m,\u001b[0m \u001b[0mtimer\u001b[0m\u001b[1;33m,\u001b[0m \u001b[0mglobals\u001b[0m\u001b[1;33m)\u001b[0m\u001b[1;33m.\u001b[0m\u001b[0mtimeit\u001b[0m\u001b[1;33m(\u001b[0m\u001b[0mnumber\u001b[0m\u001b[1;33m)\u001b[0m\u001b[1;33m\u001b[0m\u001b[1;33m\u001b[0m\u001b[0m\n\u001b[0m\u001b[0;32m    234\u001b[0m \u001b[1;33m\u001b[0m\u001b[0m\n\u001b[0;32m    235\u001b[0m def repeat(stmt=\"pass\", setup=\"pass\", timer=default_timer,\n",
      "\u001b[1;32m~\\anaconda3\\lib\\timeit.py\u001b[0m in \u001b[0;36mtimeit\u001b[1;34m(self, number)\u001b[0m\n\u001b[0;32m    175\u001b[0m         \u001b[0mgc\u001b[0m\u001b[1;33m.\u001b[0m\u001b[0mdisable\u001b[0m\u001b[1;33m(\u001b[0m\u001b[1;33m)\u001b[0m\u001b[1;33m\u001b[0m\u001b[1;33m\u001b[0m\u001b[0m\n\u001b[0;32m    176\u001b[0m         \u001b[1;32mtry\u001b[0m\u001b[1;33m:\u001b[0m\u001b[1;33m\u001b[0m\u001b[1;33m\u001b[0m\u001b[0m\n\u001b[1;32m--> 177\u001b[1;33m             \u001b[0mtiming\u001b[0m \u001b[1;33m=\u001b[0m \u001b[0mself\u001b[0m\u001b[1;33m.\u001b[0m\u001b[0minner\u001b[0m\u001b[1;33m(\u001b[0m\u001b[0mit\u001b[0m\u001b[1;33m,\u001b[0m \u001b[0mself\u001b[0m\u001b[1;33m.\u001b[0m\u001b[0mtimer\u001b[0m\u001b[1;33m)\u001b[0m\u001b[1;33m\u001b[0m\u001b[1;33m\u001b[0m\u001b[0m\n\u001b[0m\u001b[0;32m    178\u001b[0m         \u001b[1;32mfinally\u001b[0m\u001b[1;33m:\u001b[0m\u001b[1;33m\u001b[0m\u001b[1;33m\u001b[0m\u001b[0m\n\u001b[0;32m    179\u001b[0m             \u001b[1;32mif\u001b[0m \u001b[0mgcold\u001b[0m\u001b[1;33m:\u001b[0m\u001b[1;33m\u001b[0m\u001b[1;33m\u001b[0m\u001b[0m\n",
      "\u001b[1;32m<timeit-src>\u001b[0m in \u001b[0;36minner\u001b[1;34m(_it, _timer)\u001b[0m\n",
      "\u001b[1;32m<ipython-input-2-de29647c8d5a>\u001b[0m in \u001b[0;36mjarvismarch\u001b[1;34m(inputSet)\u001b[0m\n\u001b[0;32m     18\u001b[0m         \u001b[1;32mfor\u001b[0m \u001b[0mpoint\u001b[0m \u001b[1;32min\u001b[0m \u001b[0minputSet\u001b[0m\u001b[1;33m:\u001b[0m\u001b[1;33m\u001b[0m\u001b[1;33m\u001b[0m\u001b[0m\n\u001b[0;32m     19\u001b[0m             \u001b[1;31m# loop through the set of points given.\u001b[0m\u001b[1;33m\u001b[0m\u001b[1;33m\u001b[0m\u001b[1;33m\u001b[0m\u001b[0m\n\u001b[1;32m---> 20\u001b[1;33m             \u001b[1;32mif\u001b[0m \u001b[0mdeterminant\u001b[0m\u001b[1;33m(\u001b[0m\u001b[0moutputSet\u001b[0m\u001b[1;33m[\u001b[0m\u001b[0mi\u001b[0m\u001b[1;33m]\u001b[0m\u001b[1;33m,\u001b[0m \u001b[0mendpoint\u001b[0m\u001b[1;33m,\u001b[0m \u001b[0mpoint\u001b[0m\u001b[1;33m)\u001b[0m \u001b[1;33m>\u001b[0m \u001b[1;36m0\u001b[0m \u001b[1;32mor\u001b[0m \u001b[1;33m(\u001b[0m\u001b[0mendpoint\u001b[0m \u001b[1;33m==\u001b[0m \u001b[0mpointOnHull\u001b[0m\u001b[1;33m)\u001b[0m \u001b[1;33m:\u001b[0m\u001b[1;33m\u001b[0m\u001b[1;33m\u001b[0m\u001b[0m\n\u001b[0m\u001b[0;32m     21\u001b[0m                 \u001b[1;31m# if a point is on the left of the line, then take that point.\u001b[0m\u001b[1;33m\u001b[0m\u001b[1;33m\u001b[0m\u001b[1;33m\u001b[0m\u001b[0m\n\u001b[0;32m     22\u001b[0m                 \u001b[0mendpoint\u001b[0m \u001b[1;33m=\u001b[0m \u001b[0mpoint\u001b[0m\u001b[1;33m\u001b[0m\u001b[1;33m\u001b[0m\u001b[0m\n",
      "\u001b[1;32m<ipython-input-1-2ce86d8f9517>\u001b[0m in \u001b[0;36mdeterminant\u001b[1;34m(p1, p2, p3)\u001b[0m\n\u001b[0;32m     32\u001b[0m     \"\"\"\n\u001b[0;32m     33\u001b[0m \u001b[1;33m\u001b[0m\u001b[0m\n\u001b[1;32m---> 34\u001b[1;33m     \u001b[1;32mreturn\u001b[0m \u001b[1;33m(\u001b[0m\u001b[0mp2\u001b[0m\u001b[1;33m[\u001b[0m\u001b[1;36m0\u001b[0m\u001b[1;33m]\u001b[0m\u001b[1;33m-\u001b[0m\u001b[0mp1\u001b[0m\u001b[1;33m[\u001b[0m\u001b[1;36m0\u001b[0m\u001b[1;33m]\u001b[0m\u001b[1;33m)\u001b[0m \u001b[1;33m*\u001b[0m \u001b[1;33m(\u001b[0m\u001b[0mp3\u001b[0m\u001b[1;33m[\u001b[0m\u001b[1;36m1\u001b[0m\u001b[1;33m]\u001b[0m\u001b[1;33m-\u001b[0m\u001b[0mp1\u001b[0m\u001b[1;33m[\u001b[0m\u001b[1;36m1\u001b[0m\u001b[1;33m]\u001b[0m\u001b[1;33m)\u001b[0m  \u001b[1;33m-\u001b[0m \u001b[1;33m(\u001b[0m\u001b[0mp2\u001b[0m\u001b[1;33m[\u001b[0m\u001b[1;36m1\u001b[0m\u001b[1;33m]\u001b[0m\u001b[1;33m-\u001b[0m\u001b[0mp1\u001b[0m\u001b[1;33m[\u001b[0m\u001b[1;36m1\u001b[0m\u001b[1;33m]\u001b[0m\u001b[1;33m)\u001b[0m \u001b[1;33m*\u001b[0m \u001b[1;33m(\u001b[0m\u001b[0mp3\u001b[0m\u001b[1;33m[\u001b[0m\u001b[1;36m0\u001b[0m\u001b[1;33m]\u001b[0m\u001b[1;33m-\u001b[0m\u001b[0mp1\u001b[0m\u001b[1;33m[\u001b[0m\u001b[1;36m0\u001b[0m\u001b[1;33m]\u001b[0m\u001b[1;33m)\u001b[0m\u001b[1;33m\u001b[0m\u001b[1;33m\u001b[0m\u001b[0m\n\u001b[0m",
      "\u001b[1;31mKeyboardInterrupt\u001b[0m: "
     ]
    }
   ],
   "source": [
    "import timeit\n",
    "\n",
    "#test code\n",
    "\n",
    "def run_tests(limits: list, data_generator, title=\"\", tests=100):\n",
    "    \"\"\"Procedure that tests the code, and presents the findings in a prettified manner.\n",
    "\n",
    "    Args:\n",
    "        limits (list): a list of limits to test the jarvismarch on.\n",
    "        data_generator (function): a function, that when given a limit from limits, generates a list of points.\n",
    "        title (str): title is used as a label\n",
    "        tests (int): number of times to run a limit. Defaults to 100.\n",
    "    \"\"\"\n",
    "    \n",
    "    print(\"=\"*10, f\" STARTING: {title} cases \", \"=\"*10, \"\\n\")\n",
    "    for limit in limits:\n",
    "        # take avg. data generation time to subtract from total time, to get time taken for jarvismarch.\n",
    "        data_generation_time = timeit.timeit('data_generator(limit)', number = tests, globals={'data_generator':data_generator, 'limit':limit})\n",
    "\n",
    "        # get the avg. time taken to jarvismarch a generated list (a new list is generated each iteration), includes time for data generation.\n",
    "        total_time = timeit.timeit('jarvismarch(data_generator(limit))', number = tests,  \n",
    "        globals={'jarvismarch':jarvismarch,'data_generator':data_generator, 'limit':limit})\n",
    "\n",
    "        # subtract total_time by the time it takes to generate data, and then take avg.\n",
    "        jarvismarch_time = (total_time - data_generation_time) / tests\n",
    "        \n",
    "        string =  f'{title} Case @ {limit}: {jarvismarch_time} seconds' \n",
    "        print(string)\n",
    "\n",
    "    print(\"\\n\", \"=\"*10, f\" FINISHED: {title} cases \", \"=\"*10)\n",
    "\n",
    "limits = [100, 500, 1000, 5000, 10000, 15000, 20000]\n",
    "run_tests(limits, generatePoints, \"Normal\")\n",
    "run_tests(limits, worstCase, \"Worst\", tests=5)\n",
    "\n"
   ]
  },
  {
   "cell_type": "markdown",
   "metadata": {
    "cell_id": "00007-6cb4489a-ac39-4570-8578-131640f8bde9",
    "deepnote_cell_type": "markdown"
   },
   "source": [
    "*Optional*: Feel free to use the code below on small datasets (e.g., N = 10) to visually inspect whether the algorithm has been implemented correctly. The fragment below assumes both `inputSet` and `outputSet` to be lists of 2D points, with each point being a list of 2 elements (e.g., `[[x1,y1], [x2,y2], ..., [x_k,y_k]]`)"
   ]
  },
  {
   "cell_type": "code",
   "execution_count": null,
   "metadata": {
    "cell_id": "00008-aee3e7d5-edd5-4021-ae70-d91f4187305d",
    "deepnote_cell_type": "code",
    "deepnote_to_be_reexecuted": false,
    "execution_millis": 1251,
    "execution_start": 1615217356305,
    "source_hash": "2f7d7d14"
   },
   "outputs": [],
   "source": [
    "import matplotlib.pyplot as plt\n",
    "\n",
    "# inputSet and outputSet should have been defined above. \n",
    "# uncomment the next two lines only if you wish to test the plotting code before coding your algorithm\n",
    "\n",
    "inputSet = [[1,1], [2,2] , [3, 3], [4,4], [1,4], [3,1], [1, 5], [2, 4], [3, 5]]\n",
    "outputSet = [[1,1], [3,1] , [4, 4], [3,5], [1,5]]\n",
    "\n",
    "inputSet = worstCase(7)\n",
    "outputSet = jarvismarch(inputSet)\n",
    "\n",
    "plt.figure()\n",
    "\n",
    "#first do a scatter plot of the inputSet\n",
    "input_xs, input_ys = zip(*inputSet)\n",
    "plt.scatter(input_xs, input_ys)\n",
    "\n",
    "#then do a polygon plot of the computed covex hull\n",
    "outputSet.append(outputSet[0]) #first create a 'closed loop' by adding the first point at the end of the list\n",
    "output_xs, output_ys = zip(*outputSet) \n",
    "plt.plot(output_xs, output_ys) \n",
    "\n",
    "plt.show() "
   ]
  },
  {
   "cell_type": "code",
   "execution_count": null,
   "metadata": {
    "cell_id": "00009-390d1794-72c2-477c-b039-9c985908ae60",
    "deepnote_cell_type": "code",
    "deepnote_to_be_reexecuted": true,
    "execution_millis": 0,
    "source_hash": "b623e53d"
   },
   "outputs": [],
   "source": []
  },
  {
   "cell_type": "code",
   "execution_count": null,
   "metadata": {},
   "outputs": [],
   "source": []
  }
 ],
 "metadata": {
  "deepnote": {
   "is_reactive": false
  },
  "deepnote_execution_queue": [],
  "deepnote_notebook_id": "81ef94f0-0908-4516-8ad0-64b38efc04f4",
  "kernelspec": {
   "display_name": "Python 3",
   "language": "python",
   "name": "python3"
  },
  "language_info": {
   "codemirror_mode": {
    "name": "ipython",
    "version": 3
   },
   "file_extension": ".py",
   "mimetype": "text/x-python",
   "name": "python",
   "nbconvert_exporter": "python",
   "pygments_lexer": "ipython3",
   "version": "3.8.5"
  }
 },
 "nbformat": 4,
 "nbformat_minor": 4
}
